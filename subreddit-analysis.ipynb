{
 "cells": [
  {
   "cell_type": "markdown",
   "id": "fleet-animal",
   "metadata": {},
   "source": [
    "# Subreddit Analysis"
   ]
  },
  {
   "cell_type": "markdown",
   "id": "variable-departure",
   "metadata": {},
   "source": [
    "Here we are going to carry out some analysis on data collected from 2 subreddits, r/india and r/politics, using the Python Reddit API Wrapper([documentation](https://praw.readthedocs.io/en/latest/)).  \n",
    "  \n",
    "Data taken on 1st June 2021."
   ]
  },
  {
   "cell_type": "code",
   "execution_count": 1,
   "id": "diverse-savage",
   "metadata": {},
   "outputs": [],
   "source": [
    "import praw"
   ]
  },
  {
   "cell_type": "code",
   "execution_count": 2,
   "id": "charming-objective",
   "metadata": {},
   "outputs": [],
   "source": [
    "from datetime import datetime"
   ]
  },
  {
   "cell_type": "code",
   "execution_count": 3,
   "id": "sitting-medicine",
   "metadata": {},
   "outputs": [],
   "source": [
    "import pandas as pd"
   ]
  },
  {
   "cell_type": "code",
   "execution_count": 4,
   "id": "declared-robert",
   "metadata": {},
   "outputs": [],
   "source": [
    "%matplotlib inline\n",
    "import matplotlib.pyplot as plt\n",
    "import seaborn as sb"
   ]
  },
  {
   "cell_type": "markdown",
   "id": "wired-outdoors",
   "metadata": {},
   "source": [
    "To access Reddit data through PRAW, you need certain credentials obtained using your Reddit account(namely, Client ID, Client Secret, Username, Password, and User Agent). [Read how to get these credentials here...](https://praw.readthedocs.io/en/latest/getting_started/quick_start.html)\n",
    "\n",
    "As data like password, Client Secret etc are confidential, I have stored them in a local text file(*praw_credentials.txt*) so as to keep them hidden. When required, I will read from there and pass it into the Reddit object. You can pass the credentials directly without using any files."
   ]
  },
  {
   "cell_type": "code",
   "execution_count": 5,
   "id": "parental-account",
   "metadata": {},
   "outputs": [],
   "source": [
    "with open(\"praw_credentials.txt\") as f:\n",
    "    credentials = f.readlines()\n",
    "credentials = [x.strip() for x in credentials] "
   ]
  },
  {
   "cell_type": "code",
   "execution_count": 6,
   "id": "welcome-windsor",
   "metadata": {},
   "outputs": [],
   "source": [
    "reddit = praw.Reddit(client_id = credentials[0], client_secret = credentials[1], username = credentials[2], password = credentials[3], user_agent = credentials[4])"
   ]
  },
  {
   "cell_type": "markdown",
   "id": "sunset-recording",
   "metadata": {},
   "source": [
    "Now our Reddit instance is ready!  \n",
    "  \n",
    "Let's check out the India subreddit."
   ]
  },
  {
   "cell_type": "markdown",
   "id": "final-cover",
   "metadata": {},
   "source": [
    "## r/India subreddit"
   ]
  },
  {
   "cell_type": "code",
   "execution_count": 7,
   "id": "occupied-wildlife",
   "metadata": {},
   "outputs": [],
   "source": [
    "india = reddit.subreddit('india')"
   ]
  },
  {
   "cell_type": "markdown",
   "id": "opened-hanging",
   "metadata": {},
   "source": [
    "I am going to create a pandas DataFrame containing the details of the top 100 posts in the subreddit from the past year.  \n",
    "  \n",
    "To do so, I first create an empty list, *submissions_india*. Then for each top post, I initialise a dictionary, insert the details into it, and finally append it to the list.  \n",
    "  \n",
    "After the loop execution, I have a **list of dictionaries**. This list can be readily converted to the required pandas DataFrame."
   ]
  },
  {
   "cell_type": "code",
   "execution_count": 8,
   "id": "specified-hormone",
   "metadata": {},
   "outputs": [],
   "source": [
    "submissions_india = []"
   ]
  },
  {
   "cell_type": "code",
   "execution_count": 9,
   "id": "convertible-photographer",
   "metadata": {},
   "outputs": [],
   "source": [
    "for submission in india.top('year',limit=100):\n",
    "    d = {}\n",
    "    d['id'] = submission.id\n",
    "    d['title'] = submission.title\n",
    "    d['num_comments'] = submission.num_comments\n",
    "    d['score'] = submission.score\n",
    "    d['upvote_ratio'] = submission.upvote_ratio\n",
    "    d['date'] = datetime.fromtimestamp(submission.created_utc)\n",
    "    d['domain'] = submission.domain\n",
    "    d['gilded'] = submission.gilded\n",
    "    d['num_crossposts'] = submission.num_crossposts\n",
    "    d['nsfw'] = submission.over_18\n",
    "    try:\n",
    "        d['author'] = submission.author.name\n",
    "    except:\n",
    "        d['author'] = 'Not Found'\n",
    "    submissions_india.append(d)"
   ]
  },
  {
   "cell_type": "markdown",
   "id": "fatty-columbus",
   "metadata": {},
   "source": [
    "**NOTE** : Here we have made a try-except block for the author detail. It is to accomodate any case where the Reddit account is deleted."
   ]
  },
  {
   "cell_type": "code",
   "execution_count": 10,
   "id": "gentle-domestic",
   "metadata": {},
   "outputs": [],
   "source": [
    "india_top100 = pd.DataFrame(submissions_india)"
   ]
  },
  {
   "cell_type": "code",
   "execution_count": 11,
   "id": "everyday-vancouver",
   "metadata": {
    "scrolled": true
   },
   "outputs": [
    {
     "data": {
      "text/html": [
       "<div>\n",
       "<style scoped>\n",
       "    .dataframe tbody tr th:only-of-type {\n",
       "        vertical-align: middle;\n",
       "    }\n",
       "\n",
       "    .dataframe tbody tr th {\n",
       "        vertical-align: top;\n",
       "    }\n",
       "\n",
       "    .dataframe thead th {\n",
       "        text-align: right;\n",
       "    }\n",
       "</style>\n",
       "<table border=\"1\" class=\"dataframe\">\n",
       "  <thead>\n",
       "    <tr style=\"text-align: right;\">\n",
       "      <th></th>\n",
       "      <th>id</th>\n",
       "      <th>title</th>\n",
       "      <th>num_comments</th>\n",
       "      <th>score</th>\n",
       "      <th>upvote_ratio</th>\n",
       "      <th>date</th>\n",
       "      <th>domain</th>\n",
       "      <th>gilded</th>\n",
       "      <th>num_crossposts</th>\n",
       "      <th>nsfw</th>\n",
       "      <th>author</th>\n",
       "    </tr>\n",
       "  </thead>\n",
       "  <tbody>\n",
       "    <tr>\n",
       "      <th>0</th>\n",
       "      <td>mxe8r0</td>\n",
       "      <td>'We've only been here a few hours and have see...</td>\n",
       "      <td>1873</td>\n",
       "      <td>36333</td>\n",
       "      <td>0.93</td>\n",
       "      <td>2021-04-24 12:01:03</td>\n",
       "      <td>v.redd.it</td>\n",
       "      <td>1</td>\n",
       "      <td>28</td>\n",
       "      <td>False</td>\n",
       "      <td>EddieEhlriCh</td>\n",
       "    </tr>\n",
       "    <tr>\n",
       "      <th>1</th>\n",
       "      <td>n61pqx</td>\n",
       "      <td>My grandmother fought and beat COVID after bat...</td>\n",
       "      <td>393</td>\n",
       "      <td>19631</td>\n",
       "      <td>0.95</td>\n",
       "      <td>2021-05-06 12:56:16</td>\n",
       "      <td>i.redd.it</td>\n",
       "      <td>0</td>\n",
       "      <td>3</td>\n",
       "      <td>False</td>\n",
       "      <td>randomvariable10</td>\n",
       "    </tr>\n",
       "    <tr>\n",
       "      <th>2</th>\n",
       "      <td>h8q51x</td>\n",
       "      <td>Lamborghini blocked by buffaloes in India</td>\n",
       "      <td>461</td>\n",
       "      <td>17060</td>\n",
       "      <td>0.97</td>\n",
       "      <td>2020-06-14 14:12:45</td>\n",
       "      <td>i.redd.it</td>\n",
       "      <td>0</td>\n",
       "      <td>27</td>\n",
       "      <td>False</td>\n",
       "      <td>GoneHippocamping</td>\n",
       "    </tr>\n",
       "    <tr>\n",
       "      <th>3</th>\n",
       "      <td>iuwkek</td>\n",
       "      <td>As a Brazilian, I just want to say that you gu...</td>\n",
       "      <td>570</td>\n",
       "      <td>16222</td>\n",
       "      <td>0.96</td>\n",
       "      <td>2020-09-18 06:45:32</td>\n",
       "      <td>i.redd.it</td>\n",
       "      <td>0</td>\n",
       "      <td>10</td>\n",
       "      <td>False</td>\n",
       "      <td>ludico1959</td>\n",
       "    </tr>\n",
       "    <tr>\n",
       "      <th>4</th>\n",
       "      <td>laysjw</td>\n",
       "      <td>Rihanna shows support for farmers.</td>\n",
       "      <td>888</td>\n",
       "      <td>15849</td>\n",
       "      <td>0.91</td>\n",
       "      <td>2021-02-02 21:23:31</td>\n",
       "      <td>i.redd.it</td>\n",
       "      <td>1</td>\n",
       "      <td>5</td>\n",
       "      <td>False</td>\n",
       "      <td>blingsingh</td>\n",
       "    </tr>\n",
       "    <tr>\n",
       "      <th>...</th>\n",
       "      <td>...</td>\n",
       "      <td>...</td>\n",
       "      <td>...</td>\n",
       "      <td>...</td>\n",
       "      <td>...</td>\n",
       "      <td>...</td>\n",
       "      <td>...</td>\n",
       "      <td>...</td>\n",
       "      <td>...</td>\n",
       "      <td>...</td>\n",
       "      <td>...</td>\n",
       "    </tr>\n",
       "    <tr>\n",
       "      <th>95</th>\n",
       "      <td>lv2s0a</td>\n",
       "      <td>Anti National</td>\n",
       "      <td>480</td>\n",
       "      <td>6227</td>\n",
       "      <td>0.91</td>\n",
       "      <td>2021-03-01 12:46:34</td>\n",
       "      <td>i.redd.it</td>\n",
       "      <td>1</td>\n",
       "      <td>2</td>\n",
       "      <td>False</td>\n",
       "      <td>bhodrolok</td>\n",
       "    </tr>\n",
       "    <tr>\n",
       "      <th>96</th>\n",
       "      <td>mrrfrt</td>\n",
       "      <td>I captured a 50 megapixel image of the Moon fr...</td>\n",
       "      <td>222</td>\n",
       "      <td>6222</td>\n",
       "      <td>0.98</td>\n",
       "      <td>2021-04-16 05:34:40</td>\n",
       "      <td>i.redd.it</td>\n",
       "      <td>1</td>\n",
       "      <td>1</td>\n",
       "      <td>False</td>\n",
       "      <td>prathameshjaju1</td>\n",
       "    </tr>\n",
       "    <tr>\n",
       "      <th>97</th>\n",
       "      <td>lc8kb2</td>\n",
       "      <td>Deccan Herald slams Tendulkar</td>\n",
       "      <td>418</td>\n",
       "      <td>6183</td>\n",
       "      <td>0.91</td>\n",
       "      <td>2021-02-04 10:59:09</td>\n",
       "      <td>i.redd.it</td>\n",
       "      <td>0</td>\n",
       "      <td>6</td>\n",
       "      <td>False</td>\n",
       "      <td>clayagds99</td>\n",
       "    </tr>\n",
       "    <tr>\n",
       "      <th>98</th>\n",
       "      <td>gvw1x2</td>\n",
       "      <td>For an industry that has to paint their actors...</td>\n",
       "      <td>495</td>\n",
       "      <td>6162</td>\n",
       "      <td>0.94</td>\n",
       "      <td>2020-06-03 21:00:14</td>\n",
       "      <td>i.redd.it</td>\n",
       "      <td>1</td>\n",
       "      <td>5</td>\n",
       "      <td>False</td>\n",
       "      <td>isabellapintop</td>\n",
       "    </tr>\n",
       "    <tr>\n",
       "      <th>99</th>\n",
       "      <td>jwfdyu</td>\n",
       "      <td>Haven't seen these in a long long time</td>\n",
       "      <td>455</td>\n",
       "      <td>6148</td>\n",
       "      <td>0.98</td>\n",
       "      <td>2020-11-18 18:33:23</td>\n",
       "      <td>i.redd.it</td>\n",
       "      <td>0</td>\n",
       "      <td>2</td>\n",
       "      <td>False</td>\n",
       "      <td>J_S_artboy</td>\n",
       "    </tr>\n",
       "  </tbody>\n",
       "</table>\n",
       "<p>100 rows × 11 columns</p>\n",
       "</div>"
      ],
      "text/plain": [
       "        id                                              title  num_comments  \\\n",
       "0   mxe8r0  'We've only been here a few hours and have see...          1873   \n",
       "1   n61pqx  My grandmother fought and beat COVID after bat...           393   \n",
       "2   h8q51x          Lamborghini blocked by buffaloes in India           461   \n",
       "3   iuwkek  As a Brazilian, I just want to say that you gu...           570   \n",
       "4   laysjw                 Rihanna shows support for farmers.           888   \n",
       "..     ...                                                ...           ...   \n",
       "95  lv2s0a                                      Anti National           480   \n",
       "96  mrrfrt  I captured a 50 megapixel image of the Moon fr...           222   \n",
       "97  lc8kb2                      Deccan Herald slams Tendulkar           418   \n",
       "98  gvw1x2  For an industry that has to paint their actors...           495   \n",
       "99  jwfdyu             Haven't seen these in a long long time           455   \n",
       "\n",
       "    score  upvote_ratio                date     domain  gilded  \\\n",
       "0   36333          0.93 2021-04-24 12:01:03  v.redd.it       1   \n",
       "1   19631          0.95 2021-05-06 12:56:16  i.redd.it       0   \n",
       "2   17060          0.97 2020-06-14 14:12:45  i.redd.it       0   \n",
       "3   16222          0.96 2020-09-18 06:45:32  i.redd.it       0   \n",
       "4   15849          0.91 2021-02-02 21:23:31  i.redd.it       1   \n",
       "..    ...           ...                 ...        ...     ...   \n",
       "95   6227          0.91 2021-03-01 12:46:34  i.redd.it       1   \n",
       "96   6222          0.98 2021-04-16 05:34:40  i.redd.it       1   \n",
       "97   6183          0.91 2021-02-04 10:59:09  i.redd.it       0   \n",
       "98   6162          0.94 2020-06-03 21:00:14  i.redd.it       1   \n",
       "99   6148          0.98 2020-11-18 18:33:23  i.redd.it       0   \n",
       "\n",
       "    num_crossposts   nsfw            author  \n",
       "0               28  False      EddieEhlriCh  \n",
       "1                3  False  randomvariable10  \n",
       "2               27  False  GoneHippocamping  \n",
       "3               10  False        ludico1959  \n",
       "4                5  False        blingsingh  \n",
       "..             ...    ...               ...  \n",
       "95               2  False         bhodrolok  \n",
       "96               1  False   prathameshjaju1  \n",
       "97               6  False        clayagds99  \n",
       "98               5  False    isabellapintop  \n",
       "99               2  False        J_S_artboy  \n",
       "\n",
       "[100 rows x 11 columns]"
      ]
     },
     "execution_count": 11,
     "metadata": {},
     "output_type": "execute_result"
    }
   ],
   "source": [
    "india_top100"
   ]
  },
  {
   "cell_type": "markdown",
   "id": "first-robinson",
   "metadata": {},
   "source": [
    "## Analysing the source of posts"
   ]
  },
  {
   "cell_type": "markdown",
   "id": "underlying-hampshire",
   "metadata": {},
   "source": [
    "The *domain* value indicates the source(url) of the post."
   ]
  },
  {
   "cell_type": "code",
   "execution_count": 12,
   "id": "younger-providence",
   "metadata": {},
   "outputs": [
    {
     "data": {
      "text/html": [
       "<div>\n",
       "<style scoped>\n",
       "    .dataframe tbody tr th:only-of-type {\n",
       "        vertical-align: middle;\n",
       "    }\n",
       "\n",
       "    .dataframe tbody tr th {\n",
       "        vertical-align: top;\n",
       "    }\n",
       "\n",
       "    .dataframe thead th {\n",
       "        text-align: right;\n",
       "    }\n",
       "</style>\n",
       "<table border=\"1\" class=\"dataframe\">\n",
       "  <thead>\n",
       "    <tr style=\"text-align: right;\">\n",
       "      <th></th>\n",
       "      <th>domain</th>\n",
       "    </tr>\n",
       "  </thead>\n",
       "  <tbody>\n",
       "    <tr>\n",
       "      <th>i.redd.it</th>\n",
       "      <td>70</td>\n",
       "    </tr>\n",
       "    <tr>\n",
       "      <th>reddit.com</th>\n",
       "      <td>8</td>\n",
       "    </tr>\n",
       "    <tr>\n",
       "      <th>v.redd.it</th>\n",
       "      <td>7</td>\n",
       "    </tr>\n",
       "    <tr>\n",
       "      <th>self.india</th>\n",
       "      <td>4</td>\n",
       "    </tr>\n",
       "    <tr>\n",
       "      <th>i.imgur.com</th>\n",
       "      <td>4</td>\n",
       "    </tr>\n",
       "    <tr>\n",
       "      <th>imgur.com</th>\n",
       "      <td>2</td>\n",
       "    </tr>\n",
       "    <tr>\n",
       "      <th>businessinsider.in</th>\n",
       "      <td>1</td>\n",
       "    </tr>\n",
       "    <tr>\n",
       "      <th>indiatoday.in</th>\n",
       "      <td>1</td>\n",
       "    </tr>\n",
       "    <tr>\n",
       "      <th>i.ibb.co</th>\n",
       "      <td>1</td>\n",
       "    </tr>\n",
       "    <tr>\n",
       "      <th>mumbaimirror.indiatimes.com</th>\n",
       "      <td>1</td>\n",
       "    </tr>\n",
       "  </tbody>\n",
       "</table>\n",
       "</div>"
      ],
      "text/plain": [
       "                             domain\n",
       "i.redd.it                        70\n",
       "reddit.com                        8\n",
       "v.redd.it                         7\n",
       "self.india                        4\n",
       "i.imgur.com                       4\n",
       "imgur.com                         2\n",
       "businessinsider.in                1\n",
       "indiatoday.in                     1\n",
       "i.ibb.co                          1\n",
       "mumbaimirror.indiatimes.com       1"
      ]
     },
     "execution_count": 12,
     "metadata": {},
     "output_type": "execute_result"
    }
   ],
   "source": [
    "pd.DataFrame(india_top100['domain'].value_counts()).head(n=10)"
   ]
  },
  {
   "cell_type": "markdown",
   "id": "german-creature",
   "metadata": {},
   "source": [
    "We can see that the vast majority of posts don't link to any external sites."
   ]
  },
  {
   "cell_type": "markdown",
   "id": "northern-klein",
   "metadata": {},
   "source": [
    "## Analysing authors of top posts"
   ]
  },
  {
   "cell_type": "code",
   "execution_count": 13,
   "id": "functional-manhattan",
   "metadata": {},
   "outputs": [
    {
     "data": {
      "text/plain": [
       "pooniahigh          4\n",
       "EddieEhlriCh        3\n",
       "dlisfyn             2\n",
       "bhodrolok           2\n",
       "sir_qoala           2\n",
       "                   ..\n",
       "blingsingh          1\n",
       "HillsHaveEyesToo    1\n",
       "MidhileshSai        1\n",
       "SpliffKillah        1\n",
       "texasbluemoon       1\n",
       "Name: author, Length: 88, dtype: int64"
      ]
     },
     "execution_count": 13,
     "metadata": {},
     "output_type": "execute_result"
    }
   ],
   "source": [
    "india_top100.author.value_counts()"
   ]
  },
  {
   "cell_type": "markdown",
   "id": "surface-clinic",
   "metadata": {},
   "source": [
    "We can see that we have 88 unique authors for the top 100 posts. Let's check for the authors who have multiple top posts."
   ]
  },
  {
   "cell_type": "code",
   "execution_count": 14,
   "id": "computational-asthma",
   "metadata": {},
   "outputs": [],
   "source": [
    "df = pd.DataFrame(india_top100.author.value_counts().loc[lambda x:x>1])"
   ]
  },
  {
   "cell_type": "code",
   "execution_count": 15,
   "id": "thrown-configuration",
   "metadata": {
    "scrolled": true
   },
   "outputs": [
    {
     "data": {
      "text/html": [
       "<div>\n",
       "<style scoped>\n",
       "    .dataframe tbody tr th:only-of-type {\n",
       "        vertical-align: middle;\n",
       "    }\n",
       "\n",
       "    .dataframe tbody tr th {\n",
       "        vertical-align: top;\n",
       "    }\n",
       "\n",
       "    .dataframe thead th {\n",
       "        text-align: right;\n",
       "    }\n",
       "</style>\n",
       "<table border=\"1\" class=\"dataframe\">\n",
       "  <thead>\n",
       "    <tr style=\"text-align: right;\">\n",
       "      <th></th>\n",
       "      <th>author</th>\n",
       "    </tr>\n",
       "  </thead>\n",
       "  <tbody>\n",
       "    <tr>\n",
       "      <th>pooniahigh</th>\n",
       "      <td>4</td>\n",
       "    </tr>\n",
       "    <tr>\n",
       "      <th>EddieEhlriCh</th>\n",
       "      <td>3</td>\n",
       "    </tr>\n",
       "    <tr>\n",
       "      <th>dlisfyn</th>\n",
       "      <td>2</td>\n",
       "    </tr>\n",
       "    <tr>\n",
       "      <th>bhodrolok</th>\n",
       "      <td>2</td>\n",
       "    </tr>\n",
       "    <tr>\n",
       "      <th>sir_qoala</th>\n",
       "      <td>2</td>\n",
       "    </tr>\n",
       "    <tr>\n",
       "      <th>Anubhav_xx</th>\n",
       "      <td>2</td>\n",
       "    </tr>\n",
       "    <tr>\n",
       "      <th>AatmanirbharBerojgar</th>\n",
       "      <td>2</td>\n",
       "    </tr>\n",
       "    <tr>\n",
       "      <th>prathameshjaju1</th>\n",
       "      <td>2</td>\n",
       "    </tr>\n",
       "    <tr>\n",
       "      <th>raghu972</th>\n",
       "      <td>2</td>\n",
       "    </tr>\n",
       "  </tbody>\n",
       "</table>\n",
       "</div>"
      ],
      "text/plain": [
       "                      author\n",
       "pooniahigh                 4\n",
       "EddieEhlriCh               3\n",
       "dlisfyn                    2\n",
       "bhodrolok                  2\n",
       "sir_qoala                  2\n",
       "Anubhav_xx                 2\n",
       "AatmanirbharBerojgar       2\n",
       "prathameshjaju1            2\n",
       "raghu972                   2"
      ]
     },
     "execution_count": 15,
     "metadata": {},
     "output_type": "execute_result"
    }
   ],
   "source": [
    "df"
   ]
  },
  {
   "cell_type": "markdown",
   "id": "departmental-publicity",
   "metadata": {},
   "source": [
    "Overall, only 9 accounts have multiple entries in the top 100 posts."
   ]
  },
  {
   "cell_type": "code",
   "execution_count": 16,
   "id": "optimum-pennsylvania",
   "metadata": {},
   "outputs": [
    {
     "data": {
      "text/plain": [
       "21"
      ]
     },
     "execution_count": 16,
     "metadata": {},
     "output_type": "execute_result"
    }
   ],
   "source": [
    "df['author'].sum()"
   ]
  },
  {
   "cell_type": "markdown",
   "id": "cellular-teaching",
   "metadata": {},
   "source": [
    "These 9 authors account for 21 posts between them. The remaining 79 posts are made by 79 different accounts."
   ]
  },
  {
   "cell_type": "code",
   "execution_count": 17,
   "id": "professional-married",
   "metadata": {},
   "outputs": [
    {
     "data": {
      "text/html": [
       "<div>\n",
       "<style scoped>\n",
       "    .dataframe tbody tr th:only-of-type {\n",
       "        vertical-align: middle;\n",
       "    }\n",
       "\n",
       "    .dataframe tbody tr th {\n",
       "        vertical-align: top;\n",
       "    }\n",
       "\n",
       "    .dataframe thead th {\n",
       "        text-align: right;\n",
       "    }\n",
       "</style>\n",
       "<table border=\"1\" class=\"dataframe\">\n",
       "  <thead>\n",
       "    <tr style=\"text-align: right;\">\n",
       "      <th></th>\n",
       "      <th>author</th>\n",
       "    </tr>\n",
       "  </thead>\n",
       "  <tbody>\n",
       "    <tr>\n",
       "      <th>count</th>\n",
       "      <td>9.000000</td>\n",
       "    </tr>\n",
       "    <tr>\n",
       "      <th>mean</th>\n",
       "      <td>2.333333</td>\n",
       "    </tr>\n",
       "    <tr>\n",
       "      <th>std</th>\n",
       "      <td>0.707107</td>\n",
       "    </tr>\n",
       "    <tr>\n",
       "      <th>min</th>\n",
       "      <td>2.000000</td>\n",
       "    </tr>\n",
       "    <tr>\n",
       "      <th>25%</th>\n",
       "      <td>2.000000</td>\n",
       "    </tr>\n",
       "    <tr>\n",
       "      <th>50%</th>\n",
       "      <td>2.000000</td>\n",
       "    </tr>\n",
       "    <tr>\n",
       "      <th>75%</th>\n",
       "      <td>2.000000</td>\n",
       "    </tr>\n",
       "    <tr>\n",
       "      <th>max</th>\n",
       "      <td>4.000000</td>\n",
       "    </tr>\n",
       "  </tbody>\n",
       "</table>\n",
       "</div>"
      ],
      "text/plain": [
       "         author\n",
       "count  9.000000\n",
       "mean   2.333333\n",
       "std    0.707107\n",
       "min    2.000000\n",
       "25%    2.000000\n",
       "50%    2.000000\n",
       "75%    2.000000\n",
       "max    4.000000"
      ]
     },
     "execution_count": 17,
     "metadata": {},
     "output_type": "execute_result"
    }
   ],
   "source": [
    "df.describe()"
   ]
  },
  {
   "cell_type": "markdown",
   "id": "leading-personality",
   "metadata": {},
   "source": [
    "Now let's check for any deleted account."
   ]
  },
  {
   "cell_type": "code",
   "execution_count": 18,
   "id": "increasing-borough",
   "metadata": {},
   "outputs": [
    {
     "data": {
      "text/html": [
       "<div>\n",
       "<style scoped>\n",
       "    .dataframe tbody tr th:only-of-type {\n",
       "        vertical-align: middle;\n",
       "    }\n",
       "\n",
       "    .dataframe tbody tr th {\n",
       "        vertical-align: top;\n",
       "    }\n",
       "\n",
       "    .dataframe thead th {\n",
       "        text-align: right;\n",
       "    }\n",
       "</style>\n",
       "<table border=\"1\" class=\"dataframe\">\n",
       "  <thead>\n",
       "    <tr style=\"text-align: right;\">\n",
       "      <th></th>\n",
       "      <th>id</th>\n",
       "      <th>title</th>\n",
       "      <th>num_comments</th>\n",
       "      <th>score</th>\n",
       "      <th>upvote_ratio</th>\n",
       "      <th>date</th>\n",
       "      <th>domain</th>\n",
       "      <th>gilded</th>\n",
       "      <th>num_crossposts</th>\n",
       "      <th>nsfw</th>\n",
       "      <th>author</th>\n",
       "    </tr>\n",
       "  </thead>\n",
       "  <tbody>\n",
       "    <tr>\n",
       "      <th>49</th>\n",
       "      <td>hytbx0</td>\n",
       "      <td>An empirical analysis of ten rupees chips pack...</td>\n",
       "      <td>486</td>\n",
       "      <td>7613</td>\n",
       "      <td>0.97</td>\n",
       "      <td>2020-07-27 20:02:11</td>\n",
       "      <td>i.redd.it</td>\n",
       "      <td>0</td>\n",
       "      <td>2</td>\n",
       "      <td>False</td>\n",
       "      <td>Not Found</td>\n",
       "    </tr>\n",
       "  </tbody>\n",
       "</table>\n",
       "</div>"
      ],
      "text/plain": [
       "        id                                              title  num_comments  \\\n",
       "49  hytbx0  An empirical analysis of ten rupees chips pack...           486   \n",
       "\n",
       "    score  upvote_ratio                date     domain  gilded  \\\n",
       "49   7613          0.97 2020-07-27 20:02:11  i.redd.it       0   \n",
       "\n",
       "    num_crossposts   nsfw     author  \n",
       "49               2  False  Not Found  "
      ]
     },
     "execution_count": 18,
     "metadata": {},
     "output_type": "execute_result"
    }
   ],
   "source": [
    "india_top100.loc[india_top100.author == 'Not Found']"
   ]
  },
  {
   "cell_type": "markdown",
   "id": "detailed-violin",
   "metadata": {},
   "source": [
    "Out of the top 100, one post is made by a deleted account."
   ]
  },
  {
   "cell_type": "markdown",
   "id": "reverse-affairs",
   "metadata": {},
   "source": [
    "## Graphs"
   ]
  },
  {
   "cell_type": "markdown",
   "id": "modified-ballot",
   "metadata": {},
   "source": [
    "Now let's plot two graphs, *score vs num_comments* and *score vs num_crossposts*, and see whether there is any sort of relation between the attributes."
   ]
  },
  {
   "cell_type": "code",
   "execution_count": 19,
   "id": "affiliated-realtor",
   "metadata": {},
   "outputs": [
    {
     "data": {
      "image/png": "[encoded data removed]",
      "text/plain": [
       "<Figure size 432x288 with 1 Axes>"
      ]
     },
     "metadata": {
      "needs_background": "light"
     },
     "output_type": "display_data"
    }
   ],
   "source": [
    "ax1 = india_top100.plot.scatter(x='score',y='num_comments',c='k',alpha=.5)"
   ]
  },
  {
   "cell_type": "markdown",
   "id": "political-arlington",
   "metadata": {},
   "source": [
    "Between *score* and *num_comments*, we can see a bit of a linear relationship, which is logically understandable(post with more upvotes might get more comments). But there are quite a few outliers. So the relationship isn't exactly clear."
   ]
  },
  {
   "cell_type": "code",
   "execution_count": 20,
   "id": "million-starter",
   "metadata": {},
   "outputs": [
    {
     "data": {
      "image/png": "[encoded data removed]",
      "text/plain": [
       "<Figure size 432x288 with 1 Axes>"
      ]
     },
     "metadata": {
      "needs_background": "light"
     },
     "output_type": "display_data"
    }
   ],
   "source": [
    "ax2 = india_top100.plot.scatter(x='score',y='num_crossposts')"
   ]
  },
  {
   "cell_type": "markdown",
   "id": "spread-paint",
   "metadata": {},
   "source": [
    "*score* vs *num_crossposts* is even more random. There doesn't seem to be any decipherable relation between them."
   ]
  },
  {
   "cell_type": "markdown",
   "id": "spatial-cuisine",
   "metadata": {},
   "source": [
    "## r/politics subreddit"
   ]
  },
  {
   "cell_type": "markdown",
   "id": "comic-wells",
   "metadata": {},
   "source": [
    "The first few steps are the same as above."
   ]
  },
  {
   "cell_type": "code",
   "execution_count": 21,
   "id": "acting-gabriel",
   "metadata": {},
   "outputs": [],
   "source": [
    "politics = reddit.subreddit('politics')"
   ]
  },
  {
   "cell_type": "code",
   "execution_count": 22,
   "id": "certain-workplace",
   "metadata": {},
   "outputs": [],
   "source": [
    "submissions_politics = []"
   ]
  },
  {
   "cell_type": "code",
   "execution_count": 23,
   "id": "postal-climate",
   "metadata": {},
   "outputs": [],
   "source": [
    "for submission in politics.top('year',limit=100):\n",
    "    d = {}\n",
    "    d['id'] = submission.id\n",
    "    d['title'] = submission.title\n",
    "    d['num_comments'] = submission.num_comments\n",
    "    d['score'] = submission.score\n",
    "    d['upvote_ratio'] = submission.upvote_ratio\n",
    "    d['date'] = datetime.fromtimestamp(submission.created_utc)\n",
    "    d['domain'] = submission.domain\n",
    "    d['gilded'] = submission.gilded\n",
    "    d['num_crossposts'] = submission.num_crossposts\n",
    "    d['nsfw'] = submission.over_18\n",
    "    try:\n",
    "        d['author'] = submission.author.name\n",
    "    except:\n",
    "        d['author'] = 'Not Found'\n",
    "    submissions_politics.append(d)"
   ]
  },
  {
   "cell_type": "code",
   "execution_count": 24,
   "id": "complicated-helena",
   "metadata": {},
   "outputs": [],
   "source": [
    "politics_top100 = pd.DataFrame(submissions_politics)"
   ]
  },
  {
   "cell_type": "code",
   "execution_count": 25,
   "id": "hourly-minnesota",
   "metadata": {
    "scrolled": true
   },
   "outputs": [
    {
     "data": {
      "text/html": [
       "<div>\n",
       "<style scoped>\n",
       "    .dataframe tbody tr th:only-of-type {\n",
       "        vertical-align: middle;\n",
       "    }\n",
       "\n",
       "    .dataframe tbody tr th {\n",
       "        vertical-align: top;\n",
       "    }\n",
       "\n",
       "    .dataframe thead th {\n",
       "        text-align: right;\n",
       "    }\n",
       "</style>\n",
       "<table border=\"1\" class=\"dataframe\">\n",
       "  <thead>\n",
       "    <tr style=\"text-align: right;\">\n",
       "      <th></th>\n",
       "      <th>id</th>\n",
       "      <th>title</th>\n",
       "      <th>num_comments</th>\n",
       "      <th>score</th>\n",
       "      <th>upvote_ratio</th>\n",
       "      <th>date</th>\n",
       "      <th>domain</th>\n",
       "      <th>gilded</th>\n",
       "      <th>num_crossposts</th>\n",
       "      <th>nsfw</th>\n",
       "      <th>author</th>\n",
       "    </tr>\n",
       "  </thead>\n",
       "  <tbody>\n",
       "    <tr>\n",
       "      <th>0</th>\n",
       "      <td>jptq5n</td>\n",
       "      <td>Megathread: Joe Biden Projected to Defeat Pres...</td>\n",
       "      <td>83190</td>\n",
       "      <td>214319</td>\n",
       "      <td>0.88</td>\n",
       "      <td>2020-11-07 21:58:04</td>\n",
       "      <td>self.politics</td>\n",
       "      <td>319</td>\n",
       "      <td>28</td>\n",
       "      <td>False</td>\n",
       "      <td>PoliticsModeratorBot</td>\n",
       "    </tr>\n",
       "    <tr>\n",
       "      <th>1</th>\n",
       "      <td>krntg6</td>\n",
       "      <td>Mitch McConnell Will Lose Control Of The Senat...</td>\n",
       "      <td>10297</td>\n",
       "      <td>156595</td>\n",
       "      <td>0.91</td>\n",
       "      <td>2021-01-06 18:55:44</td>\n",
       "      <td>buzzfeednews.com</td>\n",
       "      <td>42</td>\n",
       "      <td>20</td>\n",
       "      <td>False</td>\n",
       "      <td>klawdz</td>\n",
       "    </tr>\n",
       "    <tr>\n",
       "      <th>2</th>\n",
       "      <td>i9161a</td>\n",
       "      <td>AOC challenges Trump to release his college tr...</td>\n",
       "      <td>7957</td>\n",
       "      <td>153240</td>\n",
       "      <td>0.93</td>\n",
       "      <td>2020-08-13 20:15:08</td>\n",
       "      <td>independent.co.uk</td>\n",
       "      <td>5</td>\n",
       "      <td>20</td>\n",
       "      <td>False</td>\n",
       "      <td>ohnoh18</td>\n",
       "    </tr>\n",
       "    <tr>\n",
       "      <th>3</th>\n",
       "      <td>l1k8xa</td>\n",
       "      <td>Biden signs federal mask mandate, repeals Musl...</td>\n",
       "      <td>6100</td>\n",
       "      <td>136690</td>\n",
       "      <td>0.84</td>\n",
       "      <td>2021-01-21 03:58:55</td>\n",
       "      <td>independent.co.uk</td>\n",
       "      <td>4</td>\n",
       "      <td>9</td>\n",
       "      <td>False</td>\n",
       "      <td>ohnoh18</td>\n",
       "    </tr>\n",
       "    <tr>\n",
       "      <th>4</th>\n",
       "      <td>jcm5dz</td>\n",
       "      <td>Trump Threatens to ‘Leave the Country’ if He L...</td>\n",
       "      <td>16368</td>\n",
       "      <td>135308</td>\n",
       "      <td>0.89</td>\n",
       "      <td>2020-10-17 06:38:58</td>\n",
       "      <td>thedailybeast.com</td>\n",
       "      <td>15</td>\n",
       "      <td>32</td>\n",
       "      <td>False</td>\n",
       "      <td>ONE-OF-THREE</td>\n",
       "    </tr>\n",
       "    <tr>\n",
       "      <th>...</th>\n",
       "      <td>...</td>\n",
       "      <td>...</td>\n",
       "      <td>...</td>\n",
       "      <td>...</td>\n",
       "      <td>...</td>\n",
       "      <td>...</td>\n",
       "      <td>...</td>\n",
       "      <td>...</td>\n",
       "      <td>...</td>\n",
       "      <td>...</td>\n",
       "      <td>...</td>\n",
       "    </tr>\n",
       "    <tr>\n",
       "      <th>95</th>\n",
       "      <td>krzt11</td>\n",
       "      <td>Remove Trump Tonight</td>\n",
       "      <td>3586</td>\n",
       "      <td>94213</td>\n",
       "      <td>0.84</td>\n",
       "      <td>2021-01-07 04:45:37</td>\n",
       "      <td>theatlantic.com</td>\n",
       "      <td>15</td>\n",
       "      <td>6</td>\n",
       "      <td>False</td>\n",
       "      <td>treetyoselfcarol</td>\n",
       "    </tr>\n",
       "    <tr>\n",
       "      <th>96</th>\n",
       "      <td>im2uc1</td>\n",
       "      <td>Trump: Americans Who Died in War Are ‘Losers’ ...</td>\n",
       "      <td>7941</td>\n",
       "      <td>94076</td>\n",
       "      <td>0.85</td>\n",
       "      <td>2020-09-04 03:08:26</td>\n",
       "      <td>theatlantic.com</td>\n",
       "      <td>20</td>\n",
       "      <td>45</td>\n",
       "      <td>False</td>\n",
       "      <td>HabitRage</td>\n",
       "    </tr>\n",
       "    <tr>\n",
       "      <th>97</th>\n",
       "      <td>kkqkxx</td>\n",
       "      <td>She Noticed $200 Million Missing, Then She Was...</td>\n",
       "      <td>1526</td>\n",
       "      <td>94030</td>\n",
       "      <td>0.94</td>\n",
       "      <td>2020-12-27 03:12:48</td>\n",
       "      <td>propublica.org</td>\n",
       "      <td>2</td>\n",
       "      <td>18</td>\n",
       "      <td>False</td>\n",
       "      <td>Helicase21</td>\n",
       "    </tr>\n",
       "    <tr>\n",
       "      <th>98</th>\n",
       "      <td>gy4g9w</td>\n",
       "      <td>George W. Bush won't support Donald Trump’s re...</td>\n",
       "      <td>4229</td>\n",
       "      <td>93983</td>\n",
       "      <td>0.88</td>\n",
       "      <td>2020-06-07 08:12:45</td>\n",
       "      <td>texastribune.org</td>\n",
       "      <td>0</td>\n",
       "      <td>20</td>\n",
       "      <td>False</td>\n",
       "      <td>salvorhardin_BE</td>\n",
       "    </tr>\n",
       "    <tr>\n",
       "      <th>99</th>\n",
       "      <td>krs92i</td>\n",
       "      <td>Trump set to be first president since 1932 to ...</td>\n",
       "      <td>2564</td>\n",
       "      <td>93962</td>\n",
       "      <td>0.90</td>\n",
       "      <td>2021-01-06 22:45:25</td>\n",
       "      <td>washingtonpost.com</td>\n",
       "      <td>1</td>\n",
       "      <td>10</td>\n",
       "      <td>False</td>\n",
       "      <td>mar_kelp</td>\n",
       "    </tr>\n",
       "  </tbody>\n",
       "</table>\n",
       "<p>100 rows × 11 columns</p>\n",
       "</div>"
      ],
      "text/plain": [
       "        id                                              title  num_comments  \\\n",
       "0   jptq5n  Megathread: Joe Biden Projected to Defeat Pres...         83190   \n",
       "1   krntg6  Mitch McConnell Will Lose Control Of The Senat...         10297   \n",
       "2   i9161a  AOC challenges Trump to release his college tr...          7957   \n",
       "3   l1k8xa  Biden signs federal mask mandate, repeals Musl...          6100   \n",
       "4   jcm5dz  Trump Threatens to ‘Leave the Country’ if He L...         16368   \n",
       "..     ...                                                ...           ...   \n",
       "95  krzt11                               Remove Trump Tonight          3586   \n",
       "96  im2uc1  Trump: Americans Who Died in War Are ‘Losers’ ...          7941   \n",
       "97  kkqkxx  She Noticed $200 Million Missing, Then She Was...          1526   \n",
       "98  gy4g9w  George W. Bush won't support Donald Trump’s re...          4229   \n",
       "99  krs92i  Trump set to be first president since 1932 to ...          2564   \n",
       "\n",
       "     score  upvote_ratio                date              domain  gilded  \\\n",
       "0   214319          0.88 2020-11-07 21:58:04       self.politics     319   \n",
       "1   156595          0.91 2021-01-06 18:55:44    buzzfeednews.com      42   \n",
       "2   153240          0.93 2020-08-13 20:15:08   independent.co.uk       5   \n",
       "3   136690          0.84 2021-01-21 03:58:55   independent.co.uk       4   \n",
       "4   135308          0.89 2020-10-17 06:38:58   thedailybeast.com      15   \n",
       "..     ...           ...                 ...                 ...     ...   \n",
       "95   94213          0.84 2021-01-07 04:45:37     theatlantic.com      15   \n",
       "96   94076          0.85 2020-09-04 03:08:26     theatlantic.com      20   \n",
       "97   94030          0.94 2020-12-27 03:12:48      propublica.org       2   \n",
       "98   93983          0.88 2020-06-07 08:12:45    texastribune.org       0   \n",
       "99   93962          0.90 2021-01-06 22:45:25  washingtonpost.com       1   \n",
       "\n",
       "    num_crossposts   nsfw                author  \n",
       "0               28  False  PoliticsModeratorBot  \n",
       "1               20  False                klawdz  \n",
       "2               20  False               ohnoh18  \n",
       "3                9  False               ohnoh18  \n",
       "4               32  False          ONE-OF-THREE  \n",
       "..             ...    ...                   ...  \n",
       "95               6  False      treetyoselfcarol  \n",
       "96              45  False             HabitRage  \n",
       "97              18  False            Helicase21  \n",
       "98              20  False       salvorhardin_BE  \n",
       "99              10  False              mar_kelp  \n",
       "\n",
       "[100 rows x 11 columns]"
      ]
     },
     "execution_count": 25,
     "metadata": {},
     "output_type": "execute_result"
    }
   ],
   "source": [
    "politics_top100"
   ]
  },
  {
   "cell_type": "markdown",
   "id": "accessible-perfume",
   "metadata": {},
   "source": [
    "## Analysing the source of posts"
   ]
  },
  {
   "cell_type": "code",
   "execution_count": 26,
   "id": "smaller-remainder",
   "metadata": {
    "scrolled": true
   },
   "outputs": [
    {
     "data": {
      "text/html": [
       "<div>\n",
       "<style scoped>\n",
       "    .dataframe tbody tr th:only-of-type {\n",
       "        vertical-align: middle;\n",
       "    }\n",
       "\n",
       "    .dataframe tbody tr th {\n",
       "        vertical-align: top;\n",
       "    }\n",
       "\n",
       "    .dataframe thead th {\n",
       "        text-align: right;\n",
       "    }\n",
       "</style>\n",
       "<table border=\"1\" class=\"dataframe\">\n",
       "  <thead>\n",
       "    <tr style=\"text-align: right;\">\n",
       "      <th></th>\n",
       "      <th>domain</th>\n",
       "    </tr>\n",
       "  </thead>\n",
       "  <tbody>\n",
       "    <tr>\n",
       "      <th>independent.co.uk</th>\n",
       "      <td>23</td>\n",
       "    </tr>\n",
       "    <tr>\n",
       "      <th>newsweek.com</th>\n",
       "      <td>12</td>\n",
       "    </tr>\n",
       "    <tr>\n",
       "      <th>self.politics</th>\n",
       "      <td>7</td>\n",
       "    </tr>\n",
       "    <tr>\n",
       "      <th>commondreams.org</th>\n",
       "      <td>7</td>\n",
       "    </tr>\n",
       "    <tr>\n",
       "      <th>businessinsider.com</th>\n",
       "      <td>5</td>\n",
       "    </tr>\n",
       "    <tr>\n",
       "      <th>thehill.com</th>\n",
       "      <td>4</td>\n",
       "    </tr>\n",
       "    <tr>\n",
       "      <th>washingtonpost.com</th>\n",
       "      <td>4</td>\n",
       "    </tr>\n",
       "    <tr>\n",
       "      <th>buzzfeednews.com</th>\n",
       "      <td>3</td>\n",
       "    </tr>\n",
       "    <tr>\n",
       "      <th>theatlantic.com</th>\n",
       "      <td>3</td>\n",
       "    </tr>\n",
       "    <tr>\n",
       "      <th>thedailybeast.com</th>\n",
       "      <td>2</td>\n",
       "    </tr>\n",
       "  </tbody>\n",
       "</table>\n",
       "</div>"
      ],
      "text/plain": [
       "                     domain\n",
       "independent.co.uk        23\n",
       "newsweek.com             12\n",
       "self.politics             7\n",
       "commondreams.org          7\n",
       "businessinsider.com       5\n",
       "thehill.com               4\n",
       "washingtonpost.com        4\n",
       "buzzfeednews.com          3\n",
       "theatlantic.com           3\n",
       "thedailybeast.com         2"
      ]
     },
     "execution_count": 26,
     "metadata": {},
     "output_type": "execute_result"
    }
   ],
   "source": [
    "pd.DataFrame(politics_top100['domain'].value_counts()).head(n=10)"
   ]
  },
  {
   "cell_type": "markdown",
   "id": "latest-psychology",
   "metadata": {},
   "source": [
    "Here we can see that the majority of posts are links to external news websites. Which is understandable for a subreddit which is primarily focussed on political news."
   ]
  },
  {
   "cell_type": "markdown",
   "id": "adjustable-cleaners",
   "metadata": {},
   "source": [
    "## Analysing authors of top posts"
   ]
  },
  {
   "cell_type": "code",
   "execution_count": 27,
   "id": "forced-wesley",
   "metadata": {},
   "outputs": [],
   "source": [
    "df1 = pd.DataFrame(politics_top100.author.value_counts().loc[lambda x:x>1])"
   ]
  },
  {
   "cell_type": "code",
   "execution_count": 28,
   "id": "responsible-draft",
   "metadata": {
    "scrolled": true
   },
   "outputs": [
    {
     "data": {
      "text/html": [
       "<div>\n",
       "<style scoped>\n",
       "    .dataframe tbody tr th:only-of-type {\n",
       "        vertical-align: middle;\n",
       "    }\n",
       "\n",
       "    .dataframe tbody tr th {\n",
       "        vertical-align: top;\n",
       "    }\n",
       "\n",
       "    .dataframe thead th {\n",
       "        text-align: right;\n",
       "    }\n",
       "</style>\n",
       "<table border=\"1\" class=\"dataframe\">\n",
       "  <thead>\n",
       "    <tr style=\"text-align: right;\">\n",
       "      <th></th>\n",
       "      <th>author</th>\n",
       "    </tr>\n",
       "  </thead>\n",
       "  <tbody>\n",
       "    <tr>\n",
       "      <th>PoliticsModeratorBot</th>\n",
       "      <td>7</td>\n",
       "    </tr>\n",
       "    <tr>\n",
       "      <th>ohnoh18</th>\n",
       "      <td>4</td>\n",
       "    </tr>\n",
       "    <tr>\n",
       "      <th>grepnork</th>\n",
       "      <td>3</td>\n",
       "    </tr>\n",
       "    <tr>\n",
       "      <th>slaysia</th>\n",
       "      <td>3</td>\n",
       "    </tr>\n",
       "    <tr>\n",
       "      <th>Twoweekswithpay</th>\n",
       "      <td>2</td>\n",
       "    </tr>\n",
       "    <tr>\n",
       "      <th>DaFunkJunkie</th>\n",
       "      <td>2</td>\n",
       "    </tr>\n",
       "    <tr>\n",
       "      <th>theladynora</th>\n",
       "      <td>2</td>\n",
       "    </tr>\n",
       "    <tr>\n",
       "      <th>Plymouth03</th>\n",
       "      <td>2</td>\n",
       "    </tr>\n",
       "    <tr>\n",
       "      <th>hildebrand_rarity</th>\n",
       "      <td>2</td>\n",
       "    </tr>\n",
       "    <tr>\n",
       "      <th>theindependentonline</th>\n",
       "      <td>2</td>\n",
       "    </tr>\n",
       "    <tr>\n",
       "      <th>Austin63867</th>\n",
       "      <td>2</td>\n",
       "    </tr>\n",
       "  </tbody>\n",
       "</table>\n",
       "</div>"
      ],
      "text/plain": [
       "                      author\n",
       "PoliticsModeratorBot       7\n",
       "ohnoh18                    4\n",
       "grepnork                   3\n",
       "slaysia                    3\n",
       "Twoweekswithpay            2\n",
       "DaFunkJunkie               2\n",
       "theladynora                2\n",
       "Plymouth03                 2\n",
       "hildebrand_rarity          2\n",
       "theindependentonline       2\n",
       "Austin63867                2"
      ]
     },
     "execution_count": 28,
     "metadata": {},
     "output_type": "execute_result"
    }
   ],
   "source": [
    "df1"
   ]
  },
  {
   "cell_type": "code",
   "execution_count": 29,
   "id": "comfortable-paintball",
   "metadata": {},
   "outputs": [
    {
     "data": {
      "text/plain": [
       "31"
      ]
     },
     "execution_count": 29,
     "metadata": {},
     "output_type": "execute_result"
    }
   ],
   "source": [
    "df1['author'].sum()"
   ]
  },
  {
   "cell_type": "code",
   "execution_count": 30,
   "id": "material-daily",
   "metadata": {
    "scrolled": false
   },
   "outputs": [
    {
     "data": {
      "text/html": [
       "<div>\n",
       "<style scoped>\n",
       "    .dataframe tbody tr th:only-of-type {\n",
       "        vertical-align: middle;\n",
       "    }\n",
       "\n",
       "    .dataframe tbody tr th {\n",
       "        vertical-align: top;\n",
       "    }\n",
       "\n",
       "    .dataframe thead th {\n",
       "        text-align: right;\n",
       "    }\n",
       "</style>\n",
       "<table border=\"1\" class=\"dataframe\">\n",
       "  <thead>\n",
       "    <tr style=\"text-align: right;\">\n",
       "      <th></th>\n",
       "      <th>author</th>\n",
       "    </tr>\n",
       "  </thead>\n",
       "  <tbody>\n",
       "    <tr>\n",
       "      <th>count</th>\n",
       "      <td>11.000000</td>\n",
       "    </tr>\n",
       "    <tr>\n",
       "      <th>mean</th>\n",
       "      <td>2.818182</td>\n",
       "    </tr>\n",
       "    <tr>\n",
       "      <th>std</th>\n",
       "      <td>1.537412</td>\n",
       "    </tr>\n",
       "    <tr>\n",
       "      <th>min</th>\n",
       "      <td>2.000000</td>\n",
       "    </tr>\n",
       "    <tr>\n",
       "      <th>25%</th>\n",
       "      <td>2.000000</td>\n",
       "    </tr>\n",
       "    <tr>\n",
       "      <th>50%</th>\n",
       "      <td>2.000000</td>\n",
       "    </tr>\n",
       "    <tr>\n",
       "      <th>75%</th>\n",
       "      <td>3.000000</td>\n",
       "    </tr>\n",
       "    <tr>\n",
       "      <th>max</th>\n",
       "      <td>7.000000</td>\n",
       "    </tr>\n",
       "  </tbody>\n",
       "</table>\n",
       "</div>"
      ],
      "text/plain": [
       "          author\n",
       "count  11.000000\n",
       "mean    2.818182\n",
       "std     1.537412\n",
       "min     2.000000\n",
       "25%     2.000000\n",
       "50%     2.000000\n",
       "75%     3.000000\n",
       "max     7.000000"
      ]
     },
     "execution_count": 30,
     "metadata": {},
     "output_type": "execute_result"
    }
   ],
   "source": [
    "df1.describe()"
   ]
  },
  {
   "cell_type": "markdown",
   "id": "private-father",
   "metadata": {},
   "source": [
    "Here, we have 11 accounts with multiple posts in the top 10. These accounts have 31 posts between them."
   ]
  },
  {
   "cell_type": "code",
   "execution_count": 31,
   "id": "loaded-affair",
   "metadata": {},
   "outputs": [
    {
     "data": {
      "text/html": [
       "<div>\n",
       "<style scoped>\n",
       "    .dataframe tbody tr th:only-of-type {\n",
       "        vertical-align: middle;\n",
       "    }\n",
       "\n",
       "    .dataframe tbody tr th {\n",
       "        vertical-align: top;\n",
       "    }\n",
       "\n",
       "    .dataframe thead th {\n",
       "        text-align: right;\n",
       "    }\n",
       "</style>\n",
       "<table border=\"1\" class=\"dataframe\">\n",
       "  <thead>\n",
       "    <tr style=\"text-align: right;\">\n",
       "      <th></th>\n",
       "      <th>id</th>\n",
       "      <th>title</th>\n",
       "      <th>num_comments</th>\n",
       "      <th>score</th>\n",
       "      <th>upvote_ratio</th>\n",
       "      <th>date</th>\n",
       "      <th>domain</th>\n",
       "      <th>gilded</th>\n",
       "      <th>num_crossposts</th>\n",
       "      <th>nsfw</th>\n",
       "      <th>author</th>\n",
       "    </tr>\n",
       "  </thead>\n",
       "  <tbody>\n",
       "  </tbody>\n",
       "</table>\n",
       "</div>"
      ],
      "text/plain": [
       "Empty DataFrame\n",
       "Columns: [id, title, num_comments, score, upvote_ratio, date, domain, gilded, num_crossposts, nsfw, author]\n",
       "Index: []"
      ]
     },
     "execution_count": 31,
     "metadata": {},
     "output_type": "execute_result"
    }
   ],
   "source": [
    "politics_top100.loc[politics_top100.author == 'Not Found']"
   ]
  },
  {
   "cell_type": "markdown",
   "id": "prepared-waters",
   "metadata": {},
   "source": [
    "Here, we do not have any deleted account as the author for a top 100 post."
   ]
  },
  {
   "cell_type": "markdown",
   "id": "embedded-crystal",
   "metadata": {},
   "source": [
    "## Graphs"
   ]
  },
  {
   "cell_type": "markdown",
   "id": "meaning-walker",
   "metadata": {},
   "source": [
    "Just like before, we will plot graphs between some selected attributes to see whether any relationship can be deciphered."
   ]
  },
  {
   "cell_type": "code",
   "execution_count": 32,
   "id": "centered-venezuela",
   "metadata": {},
   "outputs": [
    {
     "data": {
      "image/png": "[encoded data removed]",
      "text/plain": [
       "<Figure size 432x288 with 1 Axes>"
      ]
     },
     "metadata": {
      "needs_background": "light"
     },
     "output_type": "display_data"
    }
   ],
   "source": [
    "ax1 = politics_top100.plot.scatter(x='score',y='num_comments',c='k',alpha=.5)"
   ]
  },
  {
   "cell_type": "markdown",
   "id": "generous-bicycle",
   "metadata": {},
   "source": [
    "*score* vs *num_comments* shows even less linear relationship, as compared to the corresponding values in the India subreddit."
   ]
  },
  {
   "cell_type": "code",
   "execution_count": 33,
   "id": "charming-research",
   "metadata": {},
   "outputs": [
    {
     "data": {
      "image/png": "[encoded data removed]",
      "text/plain": [
       "<Figure size 432x288 with 1 Axes>"
      ]
     },
     "metadata": {
      "needs_background": "light"
     },
     "output_type": "display_data"
    }
   ],
   "source": [
    "ax2 = politics_top100.plot.scatter(x='score',y='gilded')"
   ]
  },
  {
   "cell_type": "markdown",
   "id": "nasty-watch",
   "metadata": {},
   "source": [
    "Here we try a graph between *score* and *gilded*(no. of awards the post has received). Again, no clear relationship."
   ]
  },
  {
   "cell_type": "markdown",
   "id": "gentle-basics",
   "metadata": {},
   "source": [
    "## Finding out commonly used words"
   ]
  },
  {
   "cell_type": "markdown",
   "id": "retired-forwarding",
   "metadata": {},
   "source": [
    "We have the titles of the top 100 posts in the politics subreddit over the last year. From that, we can find out the words which repeat the most in the titles. From that, we can acertain the most newsworthy topics in the subreddit."
   ]
  },
  {
   "cell_type": "markdown",
   "id": "august-hungarian",
   "metadata": {},
   "source": [
    "To carry out language processing, we import the **spacy** library. It is a library used for Natural Language Processing. [Find out more about spacy here...](https://spacy.io/usage)"
   ]
  },
  {
   "cell_type": "code",
   "execution_count": 34,
   "id": "dressed-scottish",
   "metadata": {},
   "outputs": [],
   "source": [
    "import spacy"
   ]
  },
  {
   "cell_type": "code",
   "execution_count": 35,
   "id": "random-british",
   "metadata": {},
   "outputs": [],
   "source": [
    "nlp = spacy.load(\"en_core_web_sm\")"
   ]
  },
  {
   "cell_type": "code",
   "execution_count": 36,
   "id": "alien-combine",
   "metadata": {},
   "outputs": [],
   "source": [
    "t = politics_top100['title'].to_list()"
   ]
  },
  {
   "cell_type": "code",
   "execution_count": 37,
   "id": "southwest-stereo",
   "metadata": {},
   "outputs": [],
   "source": [
    "titles = nlp(str(t))"
   ]
  },
  {
   "cell_type": "code",
   "execution_count": 38,
   "id": "extra-procurement",
   "metadata": {
    "scrolled": true
   },
   "outputs": [
    {
     "data": {
      "text/plain": [
       "['Megathread: Joe Biden Projected to Defeat President Donald Trump and Win the 2020 US Presidential Election', 'Mitch McConnell Will Lose Control Of The Senate As Democrats Have Swept The Georgia Runoffs', \"AOC challenges Trump to release his college transcript after he called her a 'poor student' on Fox News | 'You release your college transcript, I’ll release mine, and we’ll see who was the better student. Loser has to fund the Post Office,' New York congresswoman tweets\", 'Biden signs federal mask mandate, repeals Muslim Ban, and rejoins Paris Climate Agreement', 'Trump Threatens to ‘Leave the Country’ if He Loses to Biden', 'Demands for Kushner to Resign Over \\'Staggering\\' Level of \\'Depravity\\' That Put Politics Before Public Health. \"Holy hell. Jared Kushner reportedly abandoned a national testing plan because it was *politically advantageous* to sit back and let blue states be eviscerated by the virus.\"', 'Over A million people sign petition calling for KKK to be declared a terrorist group', 'White House Website Recognizes Climate Change Is Real Again', 'Report: Biden Admin Discovers Trump Had Zero Plans For COVID Vaccine Distribution', \"Biden's Pennsylvania lead is now big enough to avoid an automatic recount\", 'Donald Trump Has Just Left the White House—This Time, for Good', '\\'Cry Me a River\\': Sanders Hits Back as Billionaire Investor Whines About Potential Tax Hikes Amid GameStop Fiasco | \"Oh look, another billionaire is mad that he might have to pay more taxes while children in America go hungry and veterans sleep on the street.\"', 'House charges Donald Trump with impeachment for \"inciting an insurrection\"', 'Giuliani sued for $1.3 billion by Dominion Voting systems over false election fraud claims', 'Pentagon cancels all contracts to build Trump’s border wall', 'FBI Asks for Evidence of Individuals Inciting Violence During Protests, People Respond With Videos of Police Violence', 'Joe Biden Has Taken The Lead In The Historically Red State Of Georgia', 'Sen. Elizabeth Warren wants to bar members of Congress from ever trading individual stocks again', 'Fox News sued for $1.6bn over false election claims', 'Megathread: House Votes to Impeach President Donald J. Trump for Incitement of Insurrection', 'Covid stimulus package worth $1.9trillion clears Senate after Kamala Harris gives tie breaking vote', 'Texas Supreme Court rejects Republican-led effort to throw out nearly 127,000 Harris County votes', \"Biden says he'd like live onscreen fact checks to combat Trump 'lies' during debates\", 'Trump Thought He Could Convince Pence to Overthrow the Election by Calling Him a Pussy', 'Video of Lindsey Graham insisting Supreme Court vacancies should never be filled in election years goes viral', 'Trump must turn over financial documents to New York attorney general, judge rules', 'Biden to direct Justice Department to not renew contracts with private prisons', 'Concerned father arrested while peacefully testifying against Arkansas trans health care ban | He was arrested for going 30 seconds over his allotted two minutes to speak. The anti-LGBTQ hate group representative who spoke before him talked for 40 minutes.', 'Democratic nominee Joe Biden tests negative for coronavirus after potential exposure', 'Megathread: Joseph R. Biden Sworn in as the 46th President of the United States', 'Megathread: President Trump Pressures Georgia Secretary of State to Recalculate the Vote in His Favor in Leaked Phone Call', 'Jon Ossoff beats Sen. David Perdue, handing Democrats control of the Senate', 'Goodbye, Betsy DeVos', \"Bernie Sanders Warns Democrats They'll Get Decimated in Midterms Unless They Deliver Big.\", \"Democrat Raphael Warnock Defeated Republican Kelly Loeffler In Georgia's Runoff Race, Making Him The State's First Black Senator\", 'AOC demands probe after Robinhood app banned GameStop purchases triggering 90-minute sell-off frenzy', \"Japan is 'shocked' and furious at the US after a major coronavirus outbreak at 2 Marine bases in Okinawa — and says the US is not taking the virus seriously\", 'Bloomberg pays fines for 32,000 felons in Florida so they can vote', 'NFL commissioner offers Joe Biden all football stadiums as Covid vaccination sites', 'Ted Cruz accused of flying to Cancun amid Texas power outages as photo goes viral', 'Andrew Yang moving to Atlanta to help Democrats win Senate runoffs', 'Georgia Judge Throws Out Trump Campaign Lawsuit That Produced Exactly Zero Evidence of Fraud', 'Joe Biden wins Wisconsin', 'Donald Trump Should Be Impeached and Removed from Office Tomorrow', 'Why Impeach Trump at This Late Date? One Word, Says Bernie Sanders: \\'Precedent\\' - \"It must be made clear that no president, now or in the future, can lead an insurrection against the U.S. government.\"', 'Flight attendant union says Capitol rioters should be banned from flights home', 'Megathread: President Donald Trump announces he has tested positive for Coronavirus', 'James Mattis Denounces President Trump, Describes Him as a Threat to the Constitution', 'Biden has now received more votes for president than any other candidate in U.S. history', 'President Trump has committed treason', 'Warren reintroduces bill to bar lawmakers from trading stocks', '‘I can no longer call myself a ... Republican,’ Colin Powell says after Capitol riot', 'Twitter bans posts wishing for Trump death. The Squad wonders where that policy was for them', 'Sanders Bill Would Hike Taxes on Big Corporations That Pay CEOs Over 50 Times More Than Median Worker | \"Walmart, which pays its CEO nearly 1,000 times more than its average worker, would pay up to $855 million more in taxes.\"', 'Pelosi announces lawmakers will be fined $5K if they bypass metal detectors to House floor', 'Megathread: Long-Concealed Records Show President Trump’s Losses and Years of Tax Avoidance', 'Proud Boys intended to kill Mike Pence and Nancy Pelosi, FBI witness says', 'Mississippi hoists new state flag without Confederate emblem for first time', 'Biden says drug users should not be jailed as he admits crime bill was a mistake at town hall', 'Pence breaks silence to take credit for Pfizer vaccine - and drugs company immediately denies Trump involved', \"Stacey Abrams Says 'My Heart is Full' As Georgia Poised to Turn Blue For First Time in 28 Years\", \"'You almost had me murdered 3 weeks ago': AOC rejects Ted Cruz's support for her criticism of Robinhood\", \"Shark Tank's Kevin O'Leary on COVID-19 stimulus: Give American people checks, 'stop funding companies'\", '72 Democrats sign motion to expel Marjorie Taylor Greene from Congress', 'Trump claims in debate ‘Portland Sheriff’ gave him endorsement; Reese quickly responds: I ‘will never support him’', \"Pentagon to ban all Confederate flags on military bases despite Trump's objections\", 'Surprise, Surprise: Off-Duty Cops From All Over the Country Were in D.C. During Capitol Coup Attempt', 'Biden Has Already Fired Three of Trump’s Worst Appointees', \"AOC Condemns 'Misogynistic' Republicans for Not Criticizing Trump's $70K Hairstyling Write-Off While Attacking Her $250 Haircut\", 'Ocasio-Cortez raises $1 million for Texas relief in 4 hours', \"Jared Kushner helped create a Trump campaign shell company that secretly paid the president's family members and spent $617 million in reelection cash, a source tells Insider\", 'Georgia Judge Throws Out Trump Campaign Lawsuit That Produced Exactly Zero Evidence of Fraud', 'Megathread: Twitter Permanently Suspends @realDonaldTrump', 'Panic buttons were inexplicably torn out ahead of Capitol riots, says Alyssa Pressley chief of staff', \"Donald Trump Labelled 'Loser of the Year' by Europe's Biggest News Magazine\", 'Biden vows to rejoin Paris climate accord on ‘day one’ if he wins', 'Georgia election official says hand tally of presidential race is complete, the results affirm Biden’s lead over Trump', 'Mitt Romney joins Black Lives Matter march in D.C.', 'Trump not allowed into Scotland to escape Biden inauguration, Sturgeon warns', \"U.S. representative's bill would ban QAnon supporters, Capitol rioters from getting security clearances\", 'We need an investigation into Lindsey Graham’s intervention in Georgia', 'Trump and GOP sued for breaching KKK act with ‘coordinated conspiracy to disenfranchise Black voters’', 'Pressure on Ted Cruz Grows as Third Texas Newspaper Calls for Him to Resign', '\\'A Conspiracy to Steal the Election, Folks\\': Alarms Sound After Postal Worker Reports Removal of Sorting Machines. The removal of key equipment from Post Offices should be viewed as nothing less than \"sabotage,\" said one observer.', 'US military ‘issues rare statement denouncing Capitol riot and confirming Biden as next commander-in-chief’', 'Six Republican lawmakers among rioters as police release photos of wanted', \"Sen. John Thune, opposing $15 min wage, says he earned $6 as a kid—that's $24 with inflation\", 'Mitch McConnell Made $3,300 This Week While Blocking One-Time $2,000 Stimulus Check', \"US election: Biden event in Texas cancelled as 'armed' Trump supporters threaten campaign bus\", 'Tulsa fire department says just under 6,200 people attended Trump rally', \"Demands for Trump Removal Grow as 'Fascist' Speech Condemned as Declaration of War Against US Public\", '\\'Yes, Exactly,\\' Say Progressives After Pence Warns Democrats Will \\'Make Rich Poorer and Poor More Comfortable\\'. \"You have to be all sorts of twisted to think \\'making poor people more comfortable\\' is a bad thing.\"', 'Twitter now alerts Trump that Biden is president every time he lies about election fraud', 'Republicans Can’t Believe Democrats Don’t Want to Work With Them Just Because of the Guns and the Death Threats and the Congresswoman Who Thinks Jews Started the California Wildfires With Space Lasers', \"Trump aides reportedly had to explain to the president that his demand to 'Stop The Count' would actually guarantee his loss\", 'Remove Trump Tonight', 'Trump: Americans Who Died in War Are ‘Losers’ and ‘Suckers’', 'She Noticed $200 Million Missing, Then She Was Fired | Alice Stebbins was hired to fix the finances of California’s powerful utility regulator. She was fired after finding $200 million for the state’s deaf, blind and poor residents was missing.', \"George W. Bush won't support Donald Trump’s reelection, report says\", 'Trump set to be first president since 1932 to lose reelection, the House and the Senate']"
      ]
     },
     "execution_count": 38,
     "metadata": {},
     "output_type": "execute_result"
    }
   ],
   "source": [
    "titles"
   ]
  },
  {
   "cell_type": "markdown",
   "id": "challenging-wallpaper",
   "metadata": {},
   "source": [
    "We have converted the list of titles into a spacy object. Now using spacy, we will find out the most common Proper Nouns which appear in the post titles. That will give us an idea about the most popular topics."
   ]
  },
  {
   "cell_type": "code",
   "execution_count": 39,
   "id": "dedicated-ivory",
   "metadata": {},
   "outputs": [],
   "source": [
    "words = [token.text for token in titles if not token.is_stop and not token.is_punct and token.pos_ == \"PROPN\"]"
   ]
  },
  {
   "cell_type": "code",
   "execution_count": 40,
   "id": "completed-poison",
   "metadata": {},
   "outputs": [],
   "source": [
    "from collections import Counter"
   ]
  },
  {
   "cell_type": "code",
   "execution_count": 41,
   "id": "static-atlantic",
   "metadata": {},
   "outputs": [],
   "source": [
    "word_freq = Counter(words)"
   ]
  },
  {
   "cell_type": "code",
   "execution_count": 42,
   "id": "neutral-confidence",
   "metadata": {},
   "outputs": [],
   "source": [
    "common_words = word_freq.most_common(10)"
   ]
  },
  {
   "cell_type": "code",
   "execution_count": 43,
   "id": "respiratory-faculty",
   "metadata": {},
   "outputs": [
    {
     "data": {
      "text/plain": [
       "[('Trump', 30),\n",
       " ('Biden', 21),\n",
       " ('Georgia', 9),\n",
       " ('President', 8),\n",
       " ('Donald', 8),\n",
       " ('Democrats', 7),\n",
       " ('House', 6),\n",
       " ('Capitol', 6),\n",
       " ('Joe', 5),\n",
       " ('Senate', 5)]"
      ]
     },
     "execution_count": 43,
     "metadata": {},
     "output_type": "execute_result"
    }
   ],
   "source": [
    "common_words"
   ]
  },
  {
   "cell_type": "code",
   "execution_count": 44,
   "id": "romantic-appeal",
   "metadata": {},
   "outputs": [],
   "source": [
    "a,b = zip(*common_words)"
   ]
  },
  {
   "cell_type": "code",
   "execution_count": 45,
   "id": "primary-battery",
   "metadata": {},
   "outputs": [],
   "source": [
    "import numpy as np"
   ]
  },
  {
   "cell_type": "code",
   "execution_count": 46,
   "id": "leading-logic",
   "metadata": {},
   "outputs": [],
   "source": [
    "a = np.array(a)\n",
    "b = np.array(b)"
   ]
  },
  {
   "cell_type": "code",
   "execution_count": 47,
   "id": "august-charger",
   "metadata": {},
   "outputs": [],
   "source": [
    "sb.set(rc={'figure.figsize':(11.7,8.27)})"
   ]
  },
  {
   "cell_type": "code",
   "execution_count": 48,
   "id": "acoustic-stamp",
   "metadata": {},
   "outputs": [
    {
     "name": "stderr",
     "output_type": "stream",
     "text": [
      "c:\\users\\hp\\appdata\\local\\programs\\python\\python39\\lib\\site-packages\\seaborn\\_decorators.py:36: FutureWarning: Pass the following variables as keyword args: x, y. From version 0.12, the only valid positional argument will be `data`, and passing other arguments without an explicit keyword will result in an error or misinterpretation.\n",
      "  warnings.warn(\n"
     ]
    },
    {
     "data": {
      "text/plain": [
       "Text(0.5, 1.0, 'Top 10 commonly used words')"
      ]
     },
     "execution_count": 48,
     "metadata": {},
     "output_type": "execute_result"
    },
    {
     "data": {
      "image/png": "[encoded data removed]",
      "text/plain": [
       "<Figure size 842.4x595.44 with 1 Axes>"
      ]
     },
     "metadata": {},
     "output_type": "display_data"
    }
   ],
   "source": [
    "sb.barplot(a,b).set_title('Top 10 commonly used words')"
   ]
  },
  {
   "cell_type": "markdown",
   "id": "aware-intranet",
   "metadata": {},
   "source": [
    "We can see that the most common topic is Trump, with second being Biden. The top 10 words are all related to American politics. It shows how much discussed the 2020 American Elections were, and also points to the American-centric nature of the subreddit."
   ]
  },
  {
   "cell_type": "markdown",
   "id": "brown-onion",
   "metadata": {},
   "source": [
    "## Comparing both subreddits"
   ]
  },
  {
   "cell_type": "markdown",
   "id": "greatest-organic",
   "metadata": {},
   "source": [
    "Finally, we will use the describe() on the top 100 dataframes of each subreddit, and compare the descriptive statistics thus obtained."
   ]
  },
  {
   "cell_type": "code",
   "execution_count": 49,
   "id": "compatible-huntington",
   "metadata": {},
   "outputs": [
    {
     "data": {
      "text/html": [
       "<div>\n",
       "<style scoped>\n",
       "    .dataframe tbody tr th:only-of-type {\n",
       "        vertical-align: middle;\n",
       "    }\n",
       "\n",
       "    .dataframe tbody tr th {\n",
       "        vertical-align: top;\n",
       "    }\n",
       "\n",
       "    .dataframe thead th {\n",
       "        text-align: right;\n",
       "    }\n",
       "</style>\n",
       "<table border=\"1\" class=\"dataframe\">\n",
       "  <thead>\n",
       "    <tr style=\"text-align: right;\">\n",
       "      <th></th>\n",
       "      <th>num_comments</th>\n",
       "      <th>score</th>\n",
       "      <th>upvote_ratio</th>\n",
       "      <th>gilded</th>\n",
       "      <th>num_crossposts</th>\n",
       "    </tr>\n",
       "  </thead>\n",
       "  <tbody>\n",
       "    <tr>\n",
       "      <th>count</th>\n",
       "      <td>100.000000</td>\n",
       "      <td>100.000000</td>\n",
       "      <td>100.000000</td>\n",
       "      <td>100.000000</td>\n",
       "      <td>100.000000</td>\n",
       "    </tr>\n",
       "    <tr>\n",
       "      <th>mean</th>\n",
       "      <td>506.770000</td>\n",
       "      <td>9002.510000</td>\n",
       "      <td>0.947500</td>\n",
       "      <td>0.390000</td>\n",
       "      <td>5.790000</td>\n",
       "    </tr>\n",
       "    <tr>\n",
       "      <th>std</th>\n",
       "      <td>336.897246</td>\n",
       "      <td>3945.313808</td>\n",
       "      <td>0.029996</td>\n",
       "      <td>1.144993</td>\n",
       "      <td>10.430428</td>\n",
       "    </tr>\n",
       "    <tr>\n",
       "      <th>min</th>\n",
       "      <td>94.000000</td>\n",
       "      <td>6148.000000</td>\n",
       "      <td>0.860000</td>\n",
       "      <td>0.000000</td>\n",
       "      <td>0.000000</td>\n",
       "    </tr>\n",
       "    <tr>\n",
       "      <th>25%</th>\n",
       "      <td>305.000000</td>\n",
       "      <td>6725.250000</td>\n",
       "      <td>0.930000</td>\n",
       "      <td>0.000000</td>\n",
       "      <td>2.000000</td>\n",
       "    </tr>\n",
       "    <tr>\n",
       "      <th>50%</th>\n",
       "      <td>427.000000</td>\n",
       "      <td>7603.500000</td>\n",
       "      <td>0.950000</td>\n",
       "      <td>0.000000</td>\n",
       "      <td>3.500000</td>\n",
       "    </tr>\n",
       "    <tr>\n",
       "      <th>75%</th>\n",
       "      <td>579.750000</td>\n",
       "      <td>9678.750000</td>\n",
       "      <td>0.970000</td>\n",
       "      <td>0.000000</td>\n",
       "      <td>6.000000</td>\n",
       "    </tr>\n",
       "    <tr>\n",
       "      <th>max</th>\n",
       "      <td>1873.000000</td>\n",
       "      <td>36333.000000</td>\n",
       "      <td>0.990000</td>\n",
       "      <td>8.000000</td>\n",
       "      <td>92.000000</td>\n",
       "    </tr>\n",
       "  </tbody>\n",
       "</table>\n",
       "</div>"
      ],
      "text/plain": [
       "       num_comments         score  upvote_ratio      gilded  num_crossposts\n",
       "count    100.000000    100.000000    100.000000  100.000000      100.000000\n",
       "mean     506.770000   9002.510000      0.947500    0.390000        5.790000\n",
       "std      336.897246   3945.313808      0.029996    1.144993       10.430428\n",
       "min       94.000000   6148.000000      0.860000    0.000000        0.000000\n",
       "25%      305.000000   6725.250000      0.930000    0.000000        2.000000\n",
       "50%      427.000000   7603.500000      0.950000    0.000000        3.500000\n",
       "75%      579.750000   9678.750000      0.970000    0.000000        6.000000\n",
       "max     1873.000000  36333.000000      0.990000    8.000000       92.000000"
      ]
     },
     "execution_count": 49,
     "metadata": {},
     "output_type": "execute_result"
    }
   ],
   "source": [
    "india_top100.describe()"
   ]
  },
  {
   "cell_type": "code",
   "execution_count": 50,
   "id": "synthetic-jaguar",
   "metadata": {},
   "outputs": [
    {
     "data": {
      "text/html": [
       "<div>\n",
       "<style scoped>\n",
       "    .dataframe tbody tr th:only-of-type {\n",
       "        vertical-align: middle;\n",
       "    }\n",
       "\n",
       "    .dataframe tbody tr th {\n",
       "        vertical-align: top;\n",
       "    }\n",
       "\n",
       "    .dataframe thead th {\n",
       "        text-align: right;\n",
       "    }\n",
       "</style>\n",
       "<table border=\"1\" class=\"dataframe\">\n",
       "  <thead>\n",
       "    <tr style=\"text-align: right;\">\n",
       "      <th></th>\n",
       "      <th>num_comments</th>\n",
       "      <th>score</th>\n",
       "      <th>upvote_ratio</th>\n",
       "      <th>gilded</th>\n",
       "      <th>num_crossposts</th>\n",
       "    </tr>\n",
       "  </thead>\n",
       "  <tbody>\n",
       "    <tr>\n",
       "      <th>count</th>\n",
       "      <td>100.000000</td>\n",
       "      <td>100.000000</td>\n",
       "      <td>100.000000</td>\n",
       "      <td>100.000000</td>\n",
       "      <td>100.000000</td>\n",
       "    </tr>\n",
       "    <tr>\n",
       "      <th>mean</th>\n",
       "      <td>7454.450000</td>\n",
       "      <td>107926.820000</td>\n",
       "      <td>0.873200</td>\n",
       "      <td>7.670000</td>\n",
       "      <td>15.220000</td>\n",
       "    </tr>\n",
       "    <tr>\n",
       "      <th>std</th>\n",
       "      <td>10362.281869</td>\n",
       "      <td>16665.785787</td>\n",
       "      <td>0.037789</td>\n",
       "      <td>32.264705</td>\n",
       "      <td>8.475252</td>\n",
       "    </tr>\n",
       "    <tr>\n",
       "      <th>min</th>\n",
       "      <td>1526.000000</td>\n",
       "      <td>93962.000000</td>\n",
       "      <td>0.770000</td>\n",
       "      <td>0.000000</td>\n",
       "      <td>1.000000</td>\n",
       "    </tr>\n",
       "    <tr>\n",
       "      <th>25%</th>\n",
       "      <td>3580.000000</td>\n",
       "      <td>97040.000000</td>\n",
       "      <td>0.850000</td>\n",
       "      <td>0.750000</td>\n",
       "      <td>9.000000</td>\n",
       "    </tr>\n",
       "    <tr>\n",
       "      <th>50%</th>\n",
       "      <td>4633.000000</td>\n",
       "      <td>101916.000000</td>\n",
       "      <td>0.875000</td>\n",
       "      <td>2.000000</td>\n",
       "      <td>13.500000</td>\n",
       "    </tr>\n",
       "    <tr>\n",
       "      <th>75%</th>\n",
       "      <td>6640.750000</td>\n",
       "      <td>113755.500000</td>\n",
       "      <td>0.900000</td>\n",
       "      <td>5.000000</td>\n",
       "      <td>20.250000</td>\n",
       "    </tr>\n",
       "    <tr>\n",
       "      <th>max</th>\n",
       "      <td>83190.000000</td>\n",
       "      <td>214319.000000</td>\n",
       "      <td>0.940000</td>\n",
       "      <td>319.000000</td>\n",
       "      <td>45.000000</td>\n",
       "    </tr>\n",
       "  </tbody>\n",
       "</table>\n",
       "</div>"
      ],
      "text/plain": [
       "       num_comments          score  upvote_ratio      gilded  num_crossposts\n",
       "count    100.000000     100.000000    100.000000  100.000000      100.000000\n",
       "mean    7454.450000  107926.820000      0.873200    7.670000       15.220000\n",
       "std    10362.281869   16665.785787      0.037789   32.264705        8.475252\n",
       "min     1526.000000   93962.000000      0.770000    0.000000        1.000000\n",
       "25%     3580.000000   97040.000000      0.850000    0.750000        9.000000\n",
       "50%     4633.000000  101916.000000      0.875000    2.000000       13.500000\n",
       "75%     6640.750000  113755.500000      0.900000    5.000000       20.250000\n",
       "max    83190.000000  214319.000000      0.940000  319.000000       45.000000"
      ]
     },
     "execution_count": 50,
     "metadata": {},
     "output_type": "execute_result"
    }
   ],
   "source": [
    "politics_top100.describe()"
   ]
  },
  {
   "cell_type": "markdown",
   "id": "essential-catalog",
   "metadata": {},
   "source": [
    "**OBSERVATIONS**  \n",
    "  \n",
    "1. In absolute numbers, r/politics is easily ahead. The mean number of comments, and mean score is more than 10 times that of a post in r/india.  \n",
    "2. However, the top posts in r/India have a better mean upvote ratio than that is r/politics. It might be because a political subreddit will have a more polarized userbase, and thus more downvotes.  "
   ]
  }
 ],
 "metadata": {
  "kernelspec": {
   "display_name": "Python 3",
   "language": "python",
   "name": "python3"
  },
  "language_info": {
   "codemirror_mode": {
    "name": "ipython",
    "version": 3
   },
   "file_extension": ".py",
   "mimetype": "text/x-python",
   "name": "python",
   "nbconvert_exporter": "python",
   "pygments_lexer": "ipython3",
   "version": "3.9.1"
  }
 },
 "nbformat": 4,
 "nbformat_minor": 5
}
